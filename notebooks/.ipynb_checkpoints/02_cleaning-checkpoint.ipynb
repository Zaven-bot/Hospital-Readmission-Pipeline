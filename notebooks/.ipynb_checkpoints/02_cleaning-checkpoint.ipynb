{
 "cells": [
  {
   "cell_type": "code",
   "execution_count": 24,
   "id": "a590401c-239b-45fe-b263-ee19a7a145a0",
   "metadata": {},
   "outputs": [],
   "source": [
    "# 1. Imports\n",
    "import pandas as pd\n",
    "import numpy as np"
   ]
  },
  {
   "cell_type": "code",
   "execution_count": 25,
   "id": "709bdf36-d8e6-4cb5-841a-056ad2bf3ad9",
   "metadata": {},
   "outputs": [
    {
     "name": "stdout",
     "output_type": "stream",
     "text": [
      "Initial shape: (101766, 50)\n"
     ]
    }
   ],
   "source": [
    "# 2. Load raw data\n",
    "df = pd.read_csv(\"../data/raw/hospital_readmissions.csv\")\n",
    "df.replace(\"?\", np.nan, inplace=True)  # Clean up missing placeholders\n",
    "\n",
    "print(\"Initial shape:\", df.shape)"
   ]
  },
  {
   "cell_type": "code",
   "execution_count": 26,
   "id": "bca5f65c-f994-4c82-badd-2f452eaa5343",
   "metadata": {},
   "outputs": [
    {
     "name": "stdout",
     "output_type": "stream",
     "text": [
      "After dropping columns: (101766, 40)\n"
     ]
    }
   ],
   "source": [
    "# 3. Drop irrelevant columns (deduced from eda)\n",
    "columns_to_drop = [\n",
    "    'encounter_id', 'patient_nbr', 'weight', 'payer_code', 'medical_specialty',\n",
    "    'examide', 'citoglipton',\n",
    "    'glimepiride-pioglitazone', 'metformin-rosiglitazone', 'metformin-pioglitazone'\n",
    "]\n",
    "\n",
    "df.drop(columns=columns_to_drop, axis=1, inplace=True)\n",
    "print(\"After dropping columns:\", df.shape)"
   ]
  },
  {
   "cell_type": "code",
   "execution_count": 27,
   "id": "2e487f86-926a-4b13-9275-e72d441d1106",
   "metadata": {},
   "outputs": [],
   "source": [
    "# 4. Handle missing values\n",
    "\n",
    "# Fill missing race with \"Unknown\"\n",
    "df.fillna({'race': 'Unknown'}, inplace=True)\n",
    "\n",
    "# Drop invalid gender entries (if any)\n",
    "df = df[df['gender'] != 'Unknown']\n",
    "\n",
    "# Fill missing diagnoses with \"Unknown\"\n",
    "df.fillna({'diag_1': 'Unknown', 'diag_2': 'Unknown', 'diag_3': 'Unknown'}, inplace=True)"
   ]
  },
  {
   "cell_type": "code",
   "execution_count": 28,
   "id": "6d7d6cf0-8499-42f3-8222-e4398c438b38",
   "metadata": {},
   "outputs": [],
   "source": [
    "# 5. Encode target (readmission) variable\n",
    "df['readmitted_binary'] = df['readmitted'].apply(lambda x: 1 if x == '<30' else 0)\n",
    "df.drop(columns=['readmitted'], axis=1, inplace=True)"
   ]
  },
  {
   "cell_type": "code",
   "execution_count": 29,
   "id": "3236c256-1226-4131-8757-092def592791",
   "metadata": {},
   "outputs": [
    {
     "name": "stdout",
     "output_type": "stream",
     "text": [
      "[0 1 2 3 4 5 6 7 8 9]\n"
     ]
    }
   ],
   "source": [
    "# 6. Encode categorical features\n",
    "\n",
    "# Diabetes med usage\n",
    "df['diabetesMed'] = df['diabetesMed'].map({'Yes': 1, 'No': 0})\n",
    "df['change'] = df['change'].map({'Ch': 1, 'No': 0})\n",
    "\n",
    "# A1C and glucose serum\n",
    "df.fillna({'max_glu_serum': \"None\", 'AlCresult': \"None\"}, inplace=True)\n",
    "\n",
    "# Age buckets → ordinal scale\n",
    "age_order = {\n",
    "    '[0-10)': 0, '[10-20)': 1, '[20-30)': 2, '[30-40)': 3, '[40-50)': 4,\n",
    "    '[50-60)': 5, '[60-70)': 6, '[70-80)': 7, '[80-90)': 8, '[90-100)': 9\n",
    "}\n",
    "df['age'] = df['age'].map(age_order)\n",
    "\n",
    "# Confirm it worked\n",
    "print(df['age'].unique())\n",
    "\n",
    "# Encode insulin/metformin: ordinal\n",
    "ordinal_map = {'No': 0, 'Down': 1, 'Steady': 2, 'Up': 3}\n",
    "df['insulin'] = df['insulin'].map(ordinal_map)\n",
    "df['metformin'] = df['metformin'].map(ordinal_map)"
   ]
  },
  {
   "cell_type": "code",
   "execution_count": 30,
   "id": "ff779416-23fa-450d-8e65-12443911c00c",
   "metadata": {},
   "outputs": [],
   "source": [
    "# 7. One-hot encode the following:\n",
    "\n",
    "categorical_cols = ['race', 'gender', 'admission_type_id', 'discharge_disposition_id', 'admission_source_id',\n",
    "                    'max_glu_serum', 'A1Cresult']\n",
    "\n",
    "df = pd.get_dummies(df, columns=categorical_cols, drop_first=True)"
   ]
  },
  {
   "cell_type": "code",
   "execution_count": 31,
   "id": "46b648f0-07e7-4ea0-8ac8-4f1d6ad40037",
   "metadata": {},
   "outputs": [
    {
     "data": {
      "text/plain": [
       "Index(['age', 'time_in_hospital', 'num_lab_procedures', 'num_procedures',\n",
       "       'num_medications', 'number_outpatient', 'number_emergency',\n",
       "       'number_inpatient', 'diag_1', 'diag_2', 'diag_3', 'number_diagnoses',\n",
       "       'metformin', 'repaglinide', 'nateglinide', 'chlorpropamide',\n",
       "       'glimepiride', 'acetohexamide', 'glipizide', 'glyburide', 'tolbutamide',\n",
       "       'pioglitazone', 'rosiglitazone', 'acarbose', 'miglitol', 'troglitazone',\n",
       "       'tolazamide', 'insulin', 'glyburide-metformin', 'glipizide-metformin',\n",
       "       'change', 'diabetesMed', 'readmitted_binary', 'race_Asian',\n",
       "       'race_Caucasian', 'race_Hispanic', 'race_Other', 'race_Unknown',\n",
       "       'gender_Male', 'gender_Unknown/Invalid', 'admission_type_id_2',\n",
       "       'admission_type_id_3', 'admission_type_id_4', 'admission_type_id_5',\n",
       "       'admission_type_id_6', 'admission_type_id_7', 'admission_type_id_8',\n",
       "       'discharge_disposition_id_2', 'discharge_disposition_id_3',\n",
       "       'discharge_disposition_id_4', 'discharge_disposition_id_5',\n",
       "       'discharge_disposition_id_6', 'discharge_disposition_id_7',\n",
       "       'discharge_disposition_id_8', 'discharge_disposition_id_9',\n",
       "       'discharge_disposition_id_10', 'discharge_disposition_id_11',\n",
       "       'discharge_disposition_id_12', 'discharge_disposition_id_13',\n",
       "       'discharge_disposition_id_14', 'discharge_disposition_id_15',\n",
       "       'discharge_disposition_id_16', 'discharge_disposition_id_17',\n",
       "       'discharge_disposition_id_18', 'discharge_disposition_id_19',\n",
       "       'discharge_disposition_id_20', 'discharge_disposition_id_22',\n",
       "       'discharge_disposition_id_23', 'discharge_disposition_id_24',\n",
       "       'discharge_disposition_id_25', 'discharge_disposition_id_27',\n",
       "       'discharge_disposition_id_28', 'admission_source_id_2',\n",
       "       'admission_source_id_3', 'admission_source_id_4',\n",
       "       'admission_source_id_5', 'admission_source_id_6',\n",
       "       'admission_source_id_7', 'admission_source_id_8',\n",
       "       'admission_source_id_9', 'admission_source_id_10',\n",
       "       'admission_source_id_11', 'admission_source_id_13',\n",
       "       'admission_source_id_14', 'admission_source_id_17',\n",
       "       'admission_source_id_20', 'admission_source_id_22',\n",
       "       'admission_source_id_25', 'max_glu_serum_>300', 'max_glu_serum_None',\n",
       "       'max_glu_serum_Norm', 'A1Cresult_>8', 'A1Cresult_Norm'],\n",
       "      dtype='object')"
      ]
     },
     "execution_count": 31,
     "metadata": {},
     "output_type": "execute_result"
    }
   ],
   "source": [
    "df.columns"
   ]
  },
  {
   "cell_type": "code",
   "execution_count": 32,
   "id": "650e7f1f-0f5f-4f02-a2ae-6f550c8122df",
   "metadata": {},
   "outputs": [
    {
     "name": "stdout",
     "output_type": "stream",
     "text": [
      "✅ Cleaned data saved to data/processed/cleaned_data.csv\n"
     ]
    }
   ],
   "source": [
    "df.to_csv(\"../data/processed/cleaned_data.csv\", index=False)\n",
    "print(\"✅ Cleaned data saved to data/processed/cleaned_data.csv\")"
   ]
  },
  {
   "cell_type": "code",
   "execution_count": 33,
   "id": "d8dec8ca-be5a-41d5-85bd-bf551bef59a8",
   "metadata": {},
   "outputs": [
    {
     "data": {
      "text/html": [
       "<div>\n",
       "<style scoped>\n",
       "    .dataframe tbody tr th:only-of-type {\n",
       "        vertical-align: middle;\n",
       "    }\n",
       "\n",
       "    .dataframe tbody tr th {\n",
       "        vertical-align: top;\n",
       "    }\n",
       "\n",
       "    .dataframe thead th {\n",
       "        text-align: right;\n",
       "    }\n",
       "</style>\n",
       "<table border=\"1\" class=\"dataframe\">\n",
       "  <thead>\n",
       "    <tr style=\"text-align: right;\">\n",
       "      <th></th>\n",
       "      <th>age</th>\n",
       "      <th>time_in_hospital</th>\n",
       "      <th>num_lab_procedures</th>\n",
       "      <th>num_procedures</th>\n",
       "      <th>num_medications</th>\n",
       "      <th>number_outpatient</th>\n",
       "      <th>number_emergency</th>\n",
       "      <th>number_inpatient</th>\n",
       "      <th>diag_1</th>\n",
       "      <th>diag_2</th>\n",
       "      <th>...</th>\n",
       "      <th>admission_source_id_14</th>\n",
       "      <th>admission_source_id_17</th>\n",
       "      <th>admission_source_id_20</th>\n",
       "      <th>admission_source_id_22</th>\n",
       "      <th>admission_source_id_25</th>\n",
       "      <th>max_glu_serum_&gt;300</th>\n",
       "      <th>max_glu_serum_None</th>\n",
       "      <th>max_glu_serum_Norm</th>\n",
       "      <th>A1Cresult_&gt;8</th>\n",
       "      <th>A1Cresult_Norm</th>\n",
       "    </tr>\n",
       "  </thead>\n",
       "  <tbody>\n",
       "    <tr>\n",
       "      <th>0</th>\n",
       "      <td>0</td>\n",
       "      <td>1</td>\n",
       "      <td>41</td>\n",
       "      <td>0</td>\n",
       "      <td>1</td>\n",
       "      <td>0</td>\n",
       "      <td>0</td>\n",
       "      <td>0</td>\n",
       "      <td>250.83</td>\n",
       "      <td>Unknown</td>\n",
       "      <td>...</td>\n",
       "      <td>False</td>\n",
       "      <td>False</td>\n",
       "      <td>False</td>\n",
       "      <td>False</td>\n",
       "      <td>False</td>\n",
       "      <td>False</td>\n",
       "      <td>True</td>\n",
       "      <td>False</td>\n",
       "      <td>False</td>\n",
       "      <td>False</td>\n",
       "    </tr>\n",
       "    <tr>\n",
       "      <th>1</th>\n",
       "      <td>1</td>\n",
       "      <td>3</td>\n",
       "      <td>59</td>\n",
       "      <td>0</td>\n",
       "      <td>18</td>\n",
       "      <td>0</td>\n",
       "      <td>0</td>\n",
       "      <td>0</td>\n",
       "      <td>276</td>\n",
       "      <td>250.01</td>\n",
       "      <td>...</td>\n",
       "      <td>False</td>\n",
       "      <td>False</td>\n",
       "      <td>False</td>\n",
       "      <td>False</td>\n",
       "      <td>False</td>\n",
       "      <td>False</td>\n",
       "      <td>True</td>\n",
       "      <td>False</td>\n",
       "      <td>False</td>\n",
       "      <td>False</td>\n",
       "    </tr>\n",
       "    <tr>\n",
       "      <th>2</th>\n",
       "      <td>2</td>\n",
       "      <td>2</td>\n",
       "      <td>11</td>\n",
       "      <td>5</td>\n",
       "      <td>13</td>\n",
       "      <td>2</td>\n",
       "      <td>0</td>\n",
       "      <td>1</td>\n",
       "      <td>648</td>\n",
       "      <td>250</td>\n",
       "      <td>...</td>\n",
       "      <td>False</td>\n",
       "      <td>False</td>\n",
       "      <td>False</td>\n",
       "      <td>False</td>\n",
       "      <td>False</td>\n",
       "      <td>False</td>\n",
       "      <td>True</td>\n",
       "      <td>False</td>\n",
       "      <td>False</td>\n",
       "      <td>False</td>\n",
       "    </tr>\n",
       "    <tr>\n",
       "      <th>3</th>\n",
       "      <td>3</td>\n",
       "      <td>2</td>\n",
       "      <td>44</td>\n",
       "      <td>1</td>\n",
       "      <td>16</td>\n",
       "      <td>0</td>\n",
       "      <td>0</td>\n",
       "      <td>0</td>\n",
       "      <td>8</td>\n",
       "      <td>250.43</td>\n",
       "      <td>...</td>\n",
       "      <td>False</td>\n",
       "      <td>False</td>\n",
       "      <td>False</td>\n",
       "      <td>False</td>\n",
       "      <td>False</td>\n",
       "      <td>False</td>\n",
       "      <td>True</td>\n",
       "      <td>False</td>\n",
       "      <td>False</td>\n",
       "      <td>False</td>\n",
       "    </tr>\n",
       "    <tr>\n",
       "      <th>4</th>\n",
       "      <td>4</td>\n",
       "      <td>1</td>\n",
       "      <td>51</td>\n",
       "      <td>0</td>\n",
       "      <td>8</td>\n",
       "      <td>0</td>\n",
       "      <td>0</td>\n",
       "      <td>0</td>\n",
       "      <td>197</td>\n",
       "      <td>157</td>\n",
       "      <td>...</td>\n",
       "      <td>False</td>\n",
       "      <td>False</td>\n",
       "      <td>False</td>\n",
       "      <td>False</td>\n",
       "      <td>False</td>\n",
       "      <td>False</td>\n",
       "      <td>True</td>\n",
       "      <td>False</td>\n",
       "      <td>False</td>\n",
       "      <td>False</td>\n",
       "    </tr>\n",
       "  </tbody>\n",
       "</table>\n",
       "<p>5 rows × 93 columns</p>\n",
       "</div>"
      ],
      "text/plain": [
       "   age  time_in_hospital  num_lab_procedures  num_procedures  num_medications  \\\n",
       "0    0                 1                  41               0                1   \n",
       "1    1                 3                  59               0               18   \n",
       "2    2                 2                  11               5               13   \n",
       "3    3                 2                  44               1               16   \n",
       "4    4                 1                  51               0                8   \n",
       "\n",
       "   number_outpatient  number_emergency  number_inpatient  diag_1   diag_2  \\\n",
       "0                  0                 0                 0  250.83  Unknown   \n",
       "1                  0                 0                 0     276   250.01   \n",
       "2                  2                 0                 1     648      250   \n",
       "3                  0                 0                 0       8   250.43   \n",
       "4                  0                 0                 0     197      157   \n",
       "\n",
       "   ... admission_source_id_14  admission_source_id_17  admission_source_id_20  \\\n",
       "0  ...                  False                   False                   False   \n",
       "1  ...                  False                   False                   False   \n",
       "2  ...                  False                   False                   False   \n",
       "3  ...                  False                   False                   False   \n",
       "4  ...                  False                   False                   False   \n",
       "\n",
       "  admission_source_id_22 admission_source_id_25 max_glu_serum_>300  \\\n",
       "0                  False                  False              False   \n",
       "1                  False                  False              False   \n",
       "2                  False                  False              False   \n",
       "3                  False                  False              False   \n",
       "4                  False                  False              False   \n",
       "\n",
       "  max_glu_serum_None max_glu_serum_Norm A1Cresult_>8 A1Cresult_Norm  \n",
       "0               True              False        False          False  \n",
       "1               True              False        False          False  \n",
       "2               True              False        False          False  \n",
       "3               True              False        False          False  \n",
       "4               True              False        False          False  \n",
       "\n",
       "[5 rows x 93 columns]"
      ]
     },
     "execution_count": 33,
     "metadata": {},
     "output_type": "execute_result"
    }
   ],
   "source": [
    "df.head()"
   ]
  }
 ],
 "metadata": {
  "kernelspec": {
   "display_name": "Python 3.10.17 (readmission-ml)",
   "language": "python",
   "name": "readmission-ml"
  },
  "language_info": {
   "codemirror_mode": {
    "name": "ipython",
    "version": 3
   },
   "file_extension": ".py",
   "mimetype": "text/x-python",
   "name": "python",
   "nbconvert_exporter": "python",
   "pygments_lexer": "ipython3",
   "version": "3.10.17"
  }
 },
 "nbformat": 4,
 "nbformat_minor": 5
}
